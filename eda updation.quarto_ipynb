{
  "cells": [
    {
      "cell_type": "markdown",
      "metadata": {},
      "source": [
        "---\n",
        "title: \"Data Analysis\"\n",
        "subtitle: \"Comprehensive Data Cleaning & Exploratory Analysis of Job Market Trends\"\n",
        "author:\n",
        "  - name: Advait Pillai, Ritusri Mohan\n",
        "    affiliations:\n",
        "      - id: bu\n",
        "        name: Boston University\n",
        "        city: Boston\n",
        "        state: MA\n",
        "format: \n",
        "  html:\n",
        "    toc: true\n",
        "    number-sections: true\n",
        "    df-print: paged\n",
        "---\n",
        "\n",
        "\n",
        "\n",
        "\n",
        "\n",
        "The chart below highlights the top 10 most frequently requested job skills from the Lightcast dataset. These reflect emerging industry demands across both AI and non-AI sectors.\n",
        "\n",
        "![Top 10 In-Demand Skills](DATA/top_10_skills_labeled.png)\n"
      ],
      "id": "e21417fb"
    },
    {
      "cell_type": "code",
      "metadata": {},
      "source": [
        "import pandas as pd\n",
        "import plotly.express as px\n",
        "import os\n",
        "\n",
        "df = pd.read_csv('lightcast_job_postings.csv', low_memory=False)\n",
        "\n",
        "df['SKILLS_NAME'] = df['SKILLS_NAME'].fillna('')\n",
        "top_skills = df['SKILLS_NAME'].str.split(',').explode().str.strip().value_counts().head(10)\n",
        "top_skills = top_skills[::-1]  \n",
        "\n",
        "fig = px.bar(\n",
        "    x=top_skills.values,\n",
        "    y=top_skills.index,\n",
        "    orientation='h',\n",
        "    labels={'x': 'Count', 'y': 'Skills'},\n",
        "    title='Top 10 Most In-Demand Skills'\n",
        ")\n",
        "fig.update_layout(yaxis=dict(autorange=\"reversed\"))\n",
        "\n",
        "os.makedirs(\"DATA\", exist_ok=True)\n",
        "output_path = os.path.join(\"DATA\", \"top_10_skills_labeled.png\")\n",
        "fig.write_image(output_path, width=800, height=500, scale=2)"
      ],
      "id": "745307ce",
      "execution_count": null,
      "outputs": []
    }
  ],
  "metadata": {
    "kernelspec": {
      "name": "python3",
      "language": "python",
      "display_name": "Python 3 (ipykernel)",
      "path": "/Library/Frameworks/Python.framework/Versions/3.13/share/jupyter/kernels/python3"
    }
  },
  "nbformat": 4,
  "nbformat_minor": 5
}